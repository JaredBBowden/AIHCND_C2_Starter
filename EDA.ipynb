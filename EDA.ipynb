{
 "cells": [
  {
   "cell_type": "code",
   "execution_count": 20,
   "metadata": {},
   "outputs": [],
   "source": [
    "import numpy as np # linear algebra\n",
    "import pandas as pd # data processing, CSV file I/O (e.g. pd.read_csv)\n",
    "import os\n",
    "from glob import glob\n",
    "#%matplotlib inline doesn't seem to play nice with jupyter lab\n",
    "import matplotlib.pyplot as plt\n",
    "import seaborn as sns\n",
    "\n",
    "from itertools import chain\n",
    "\n",
    "%matplotlib inline\n",
    "##Import any other packages you may need here"
   ]
  },
  {
   "cell_type": "code",
   "execution_count": 8,
   "metadata": {},
   "outputs": [
    {
     "name": "stdout",
     "output_type": "stream",
     "text": [
      "\u001b[01;31m\u001b[KData\u001b[m\u001b[K_Entry_2017.csv\n"
     ]
    }
   ],
   "source": [
    "!ls ./data/ | grep -i data\n"
   ]
  },
  {
   "cell_type": "code",
   "execution_count": 10,
   "metadata": {},
   "outputs": [],
   "source": [
    "## Below is some helper code to read all of your full image filepaths into a dataframe for easier manipulation\n",
    "all_xray_df = pd.read_csv('./data/Data_Entry_2017.csv')\n",
    "data_sample = pd.read_csv('sample_labels.csv')"
   ]
  },
  {
   "cell_type": "code",
   "execution_count": 11,
   "metadata": {},
   "outputs": [
    {
     "data": {
      "text/html": [
       "<div>\n",
       "<style scoped>\n",
       "    .dataframe tbody tr th:only-of-type {\n",
       "        vertical-align: middle;\n",
       "    }\n",
       "\n",
       "    .dataframe tbody tr th {\n",
       "        vertical-align: top;\n",
       "    }\n",
       "\n",
       "    .dataframe thead th {\n",
       "        text-align: right;\n",
       "    }\n",
       "</style>\n",
       "<table border=\"1\" class=\"dataframe\">\n",
       "  <thead>\n",
       "    <tr style=\"text-align: right;\">\n",
       "      <th></th>\n",
       "      <th>Image Index</th>\n",
       "      <th>Finding Labels</th>\n",
       "      <th>Follow-up #</th>\n",
       "      <th>Patient ID</th>\n",
       "      <th>Patient Age</th>\n",
       "      <th>Patient Gender</th>\n",
       "      <th>View Position</th>\n",
       "      <th>OriginalImage[Width</th>\n",
       "      <th>Height]</th>\n",
       "      <th>OriginalImagePixelSpacing[x</th>\n",
       "      <th>y]</th>\n",
       "      <th>Unnamed: 11</th>\n",
       "    </tr>\n",
       "  </thead>\n",
       "  <tbody>\n",
       "    <tr>\n",
       "      <th>36644</th>\n",
       "      <td>00009646_000.png</td>\n",
       "      <td>Emphysema</td>\n",
       "      <td>0</td>\n",
       "      <td>9646</td>\n",
       "      <td>83</td>\n",
       "      <td>M</td>\n",
       "      <td>PA</td>\n",
       "      <td>2500</td>\n",
       "      <td>2048</td>\n",
       "      <td>0.168</td>\n",
       "      <td>0.168</td>\n",
       "      <td>NaN</td>\n",
       "    </tr>\n",
       "    <tr>\n",
       "      <th>99287</th>\n",
       "      <td>00026259_000.png</td>\n",
       "      <td>No Finding</td>\n",
       "      <td>0</td>\n",
       "      <td>26259</td>\n",
       "      <td>57</td>\n",
       "      <td>F</td>\n",
       "      <td>PA</td>\n",
       "      <td>2770</td>\n",
       "      <td>2738</td>\n",
       "      <td>0.143</td>\n",
       "      <td>0.143</td>\n",
       "      <td>NaN</td>\n",
       "    </tr>\n",
       "    <tr>\n",
       "      <th>25048</th>\n",
       "      <td>00006600_002.png</td>\n",
       "      <td>Infiltration</td>\n",
       "      <td>2</td>\n",
       "      <td>6600</td>\n",
       "      <td>72</td>\n",
       "      <td>M</td>\n",
       "      <td>AP</td>\n",
       "      <td>2500</td>\n",
       "      <td>2048</td>\n",
       "      <td>0.171</td>\n",
       "      <td>0.171</td>\n",
       "      <td>NaN</td>\n",
       "    </tr>\n",
       "  </tbody>\n",
       "</table>\n",
       "</div>"
      ],
      "text/plain": [
       "            Image Index Finding Labels  Follow-up #  Patient ID  Patient Age  \\\n",
       "36644  00009646_000.png      Emphysema            0        9646           83   \n",
       "99287  00026259_000.png     No Finding            0       26259           57   \n",
       "25048  00006600_002.png   Infiltration            2        6600           72   \n",
       "\n",
       "      Patient Gender View Position  OriginalImage[Width  Height]  \\\n",
       "36644              M            PA                 2500     2048   \n",
       "99287              F            PA                 2770     2738   \n",
       "25048              M            AP                 2500     2048   \n",
       "\n",
       "       OriginalImagePixelSpacing[x     y]  Unnamed: 11  \n",
       "36644                        0.168  0.168          NaN  \n",
       "99287                        0.143  0.143          NaN  \n",
       "25048                        0.171  0.171          NaN  "
      ]
     },
     "execution_count": 11,
     "metadata": {},
     "output_type": "execute_result"
    }
   ],
   "source": [
    "all_xray_df.sample(3)"
   ]
  },
  {
   "cell_type": "code",
   "execution_count": 12,
   "metadata": {},
   "outputs": [
    {
     "data": {
      "text/html": [
       "<div>\n",
       "<style scoped>\n",
       "    .dataframe tbody tr th:only-of-type {\n",
       "        vertical-align: middle;\n",
       "    }\n",
       "\n",
       "    .dataframe tbody tr th {\n",
       "        vertical-align: top;\n",
       "    }\n",
       "\n",
       "    .dataframe thead th {\n",
       "        text-align: right;\n",
       "    }\n",
       "</style>\n",
       "<table border=\"1\" class=\"dataframe\">\n",
       "  <thead>\n",
       "    <tr style=\"text-align: right;\">\n",
       "      <th></th>\n",
       "      <th>Image Index</th>\n",
       "      <th>Finding Labels</th>\n",
       "      <th>Follow-up #</th>\n",
       "      <th>Patient ID</th>\n",
       "      <th>Patient Age</th>\n",
       "      <th>Patient Gender</th>\n",
       "      <th>View Position</th>\n",
       "      <th>OriginalImageWidth</th>\n",
       "      <th>OriginalImageHeight</th>\n",
       "      <th>OriginalImagePixelSpacing_x</th>\n",
       "      <th>OriginalImagePixelSpacing_y</th>\n",
       "    </tr>\n",
       "  </thead>\n",
       "  <tbody>\n",
       "    <tr>\n",
       "      <th>3633</th>\n",
       "      <td>00017906_010.png</td>\n",
       "      <td>No Finding</td>\n",
       "      <td>10</td>\n",
       "      <td>17906</td>\n",
       "      <td>022Y</td>\n",
       "      <td>M</td>\n",
       "      <td>PA</td>\n",
       "      <td>2658</td>\n",
       "      <td>2387</td>\n",
       "      <td>0.143</td>\n",
       "      <td>0.143</td>\n",
       "    </tr>\n",
       "    <tr>\n",
       "      <th>1542</th>\n",
       "      <td>00008009_000.png</td>\n",
       "      <td>No Finding</td>\n",
       "      <td>0</td>\n",
       "      <td>8009</td>\n",
       "      <td>015Y</td>\n",
       "      <td>M</td>\n",
       "      <td>PA</td>\n",
       "      <td>2798</td>\n",
       "      <td>2991</td>\n",
       "      <td>0.143</td>\n",
       "      <td>0.143</td>\n",
       "    </tr>\n",
       "    <tr>\n",
       "      <th>5177</th>\n",
       "      <td>00027652_003.png</td>\n",
       "      <td>Atelectasis|Pneumothorax</td>\n",
       "      <td>3</td>\n",
       "      <td>27652</td>\n",
       "      <td>049Y</td>\n",
       "      <td>M</td>\n",
       "      <td>AP</td>\n",
       "      <td>3056</td>\n",
       "      <td>2544</td>\n",
       "      <td>0.139</td>\n",
       "      <td>0.139</td>\n",
       "    </tr>\n",
       "  </tbody>\n",
       "</table>\n",
       "</div>"
      ],
      "text/plain": [
       "           Image Index            Finding Labels  Follow-up #  Patient ID  \\\n",
       "3633  00017906_010.png                No Finding           10       17906   \n",
       "1542  00008009_000.png                No Finding            0        8009   \n",
       "5177  00027652_003.png  Atelectasis|Pneumothorax            3       27652   \n",
       "\n",
       "     Patient Age Patient Gender View Position  OriginalImageWidth  \\\n",
       "3633        022Y              M            PA                2658   \n",
       "1542        015Y              M            PA                2798   \n",
       "5177        049Y              M            AP                3056   \n",
       "\n",
       "      OriginalImageHeight  OriginalImagePixelSpacing_x  \\\n",
       "3633                 2387                        0.143   \n",
       "1542                 2991                        0.143   \n",
       "5177                 2544                        0.139   \n",
       "\n",
       "      OriginalImagePixelSpacing_y  \n",
       "3633                        0.143  \n",
       "1542                        0.143  \n",
       "5177                        0.139  "
      ]
     },
     "execution_count": 12,
     "metadata": {},
     "output_type": "execute_result"
    }
   ],
   "source": [
    "data_sample.sample(3)"
   ]
  },
  {
   "cell_type": "markdown",
   "metadata": {},
   "source": [
    "What are we looking at here?\n"
   ]
  },
  {
   "cell_type": "markdown",
   "metadata": {},
   "source": [
    "EDA is open-ended, and it is up to you to decide how to look at different ways to slice and dice your data. A good starting point is to look at the requirements for the FDA documentation in the final part of this project to guide (some) of the analyses you do. \n",
    "\n",
    "This EDA should also help to inform you of how pneumonia looks in the wild. E.g. what other types of diseases it's commonly found with, how often it is found, what ages it affects, etc. \n",
    "\n",
    "Note that this NIH dataset was not specifically acquired for pneumonia. So, while this is a representation of 'pneumonia in the wild,' the prevalence of pneumonia may be different if you were to take only chest x-rays that were acquired in an ER setting with suspicion of pneumonia. "
   ]
  },
  {
   "cell_type": "markdown",
   "metadata": {},
   "source": [
    "Also, **describe your findings and how will you set up the model training based on the findings.**"
   ]
  },
  {
   "cell_type": "markdown",
   "metadata": {},
   "source": [
    "## The student can create visualizations of the metadata that inform model training"
   ]
  },
  {
   "cell_type": "code",
   "execution_count": 46,
   "metadata": {},
   "outputs": [
    {
     "data": {
      "text/plain": [
       "No Finding                  60361\n",
       "Infiltration                 9547\n",
       "Atelectasis                  4215\n",
       "Effusion                     3955\n",
       "Nodule                       2705\n",
       "Pneumothorax                 2194\n",
       "Mass                         2139\n",
       "Effusion|Infiltration        1603\n",
       "Atelectasis|Infiltration     1350\n",
       "Consolidation                1310\n",
       "Name: Finding Labels, dtype: int64"
      ]
     },
     "execution_count": 46,
     "metadata": {},
     "output_type": "execute_result"
    }
   ],
   "source": [
    "# Let's start with a review the full compliment of diseases we're looking at.\n",
    "all_xray_df['Finding Labels'].value_counts()[:10]"
   ]
  },
  {
   "cell_type": "code",
   "execution_count": 45,
   "metadata": {},
   "outputs": [
    {
     "data": {
      "text/plain": [
       "array(['Atelectasis', 'Cardiomegaly', 'Consolidation', 'Edema',\n",
       "       'Effusion', 'Emphysema', 'Fibrosis', 'Hernia', 'Infiltration',\n",
       "       'Mass', 'No Finding', 'Nodule', 'Pleural_Thickening', 'Pneumonia',\n",
       "       'Pneumothorax'], dtype='<U18')"
      ]
     },
     "execution_count": 45,
     "metadata": {},
     "output_type": "execute_result"
    }
   ],
   "source": [
    "# There appear to be some comorbitities to account for here. Let's add columns to label each of these\n",
    "# as binary classifications (snippet from lesson x to start this)\n",
    "unique_labels = np.unique(list(chain(*all_xray_df['Finding Labels'].map(lambda x: x.split('|')).tolist())))\n",
    "unique_labels"
   ]
  },
  {
   "cell_type": "code",
   "execution_count": 48,
   "metadata": {},
   "outputs": [],
   "source": [
    "# Binary column for presence or abense of each label \n",
    "for x in unique_labels:\n",
    "    all_xray_df[x] = [x in label for label in all_xray_df['Finding Labels']]\n",
    "    \n",
    "# This is going to be a boolean, but that suits me"
   ]
  },
  {
   "cell_type": "code",
   "execution_count": 49,
   "metadata": {},
   "outputs": [
    {
     "data": {
      "text/plain": [
       "['Image Index',\n",
       " 'Finding Labels',\n",
       " 'Follow-up #',\n",
       " 'Patient ID',\n",
       " 'Patient Age',\n",
       " 'Patient Gender',\n",
       " 'View Position',\n",
       " 'OriginalImage[Width',\n",
       " 'Height]',\n",
       " 'OriginalImagePixelSpacing[x',\n",
       " 'y]',\n",
       " 'Unnamed: 11',\n",
       " 'Atelectasis',\n",
       " 'Cardiomegaly',\n",
       " 'Consolidation',\n",
       " 'Edema',\n",
       " 'Effusion',\n",
       " 'Emphysema',\n",
       " 'Fibrosis',\n",
       " 'Hernia',\n",
       " 'Infiltration',\n",
       " 'Mass',\n",
       " 'No Finding',\n",
       " 'Nodule',\n",
       " 'Pleural_Thickening',\n",
       " 'Pneumonia',\n",
       " 'Pneumothorax']"
      ]
     },
     "execution_count": 49,
     "metadata": {},
     "output_type": "execute_result"
    }
   ],
   "source": [
    "# Quick sanify check\n",
    "list(all_xray_df)"
   ]
  },
  {
   "cell_type": "markdown",
   "metadata": {},
   "source": [
    "Moving on. Now that we have this, let's take a look at some out our citeria.  \n",
    "**Students create distributions of diseases and comorbidities in their dataset**\n",
    "\n",
    "The thing about this dataset, I think we might have multiple images per patient. If this is the case, and there is an _unequal_ number of images per patient, we could have unequal counts of diseases (as well as any other column: demographics etc). The `Subject ID` appears to provide a means to address this. Let's review. "
   ]
  },
  {
   "cell_type": "code",
   "execution_count": 53,
   "metadata": {},
   "outputs": [
    {
     "data": {
      "text/plain": [
       "10007    184\n",
       "13670    173\n",
       "15530    158\n",
       "12834    157\n",
       "13993    143\n",
       "        ... \n",
       "3301       1\n",
       "5350       1\n",
       "7399       1\n",
       "19693      1\n",
       "22485      1\n",
       "Name: Patient ID, Length: 30805, dtype: int64"
      ]
     },
     "execution_count": 53,
     "metadata": {},
     "output_type": "execute_result"
    }
   ],
   "source": [
    "all_xray_df['Patient ID'].value_counts()"
   ]
  },
  {
   "cell_type": "markdown",
   "metadata": {},
   "source": [
    "Alright, so, clearly there are some patients that have more series than others... Let's take a closer look at this "
   ]
  },
  {
   "cell_type": "code",
   "execution_count": 55,
   "metadata": {},
   "outputs": [
    {
     "data": {
      "text/html": [
       "<div>\n",
       "<style scoped>\n",
       "    .dataframe tbody tr th:only-of-type {\n",
       "        vertical-align: middle;\n",
       "    }\n",
       "\n",
       "    .dataframe tbody tr th {\n",
       "        vertical-align: top;\n",
       "    }\n",
       "\n",
       "    .dataframe thead th {\n",
       "        text-align: right;\n",
       "    }\n",
       "</style>\n",
       "<table border=\"1\" class=\"dataframe\">\n",
       "  <thead>\n",
       "    <tr style=\"text-align: right;\">\n",
       "      <th></th>\n",
       "      <th>Image Index</th>\n",
       "      <th>Finding Labels</th>\n",
       "      <th>Follow-up #</th>\n",
       "      <th>Patient ID</th>\n",
       "      <th>Patient Age</th>\n",
       "      <th>Patient Gender</th>\n",
       "      <th>View Position</th>\n",
       "      <th>OriginalImage[Width</th>\n",
       "      <th>Height]</th>\n",
       "      <th>OriginalImagePixelSpacing[x</th>\n",
       "      <th>...</th>\n",
       "      <th>Emphysema</th>\n",
       "      <th>Fibrosis</th>\n",
       "      <th>Hernia</th>\n",
       "      <th>Infiltration</th>\n",
       "      <th>Mass</th>\n",
       "      <th>No Finding</th>\n",
       "      <th>Nodule</th>\n",
       "      <th>Pleural_Thickening</th>\n",
       "      <th>Pneumonia</th>\n",
       "      <th>Pneumothorax</th>\n",
       "    </tr>\n",
       "  </thead>\n",
       "  <tbody>\n",
       "    <tr>\n",
       "      <th>38081</th>\n",
       "      <td>00010007_000.png</td>\n",
       "      <td>No Finding</td>\n",
       "      <td>0</td>\n",
       "      <td>10007</td>\n",
       "      <td>57</td>\n",
       "      <td>M</td>\n",
       "      <td>PA</td>\n",
       "      <td>2992</td>\n",
       "      <td>2991</td>\n",
       "      <td>0.143</td>\n",
       "      <td>...</td>\n",
       "      <td>False</td>\n",
       "      <td>False</td>\n",
       "      <td>False</td>\n",
       "      <td>False</td>\n",
       "      <td>False</td>\n",
       "      <td>True</td>\n",
       "      <td>False</td>\n",
       "      <td>False</td>\n",
       "      <td>False</td>\n",
       "      <td>False</td>\n",
       "    </tr>\n",
       "    <tr>\n",
       "      <th>38082</th>\n",
       "      <td>00010007_001.png</td>\n",
       "      <td>No Finding</td>\n",
       "      <td>1</td>\n",
       "      <td>10007</td>\n",
       "      <td>58</td>\n",
       "      <td>M</td>\n",
       "      <td>AP</td>\n",
       "      <td>2500</td>\n",
       "      <td>2048</td>\n",
       "      <td>0.168</td>\n",
       "      <td>...</td>\n",
       "      <td>False</td>\n",
       "      <td>False</td>\n",
       "      <td>False</td>\n",
       "      <td>False</td>\n",
       "      <td>False</td>\n",
       "      <td>True</td>\n",
       "      <td>False</td>\n",
       "      <td>False</td>\n",
       "      <td>False</td>\n",
       "      <td>False</td>\n",
       "    </tr>\n",
       "    <tr>\n",
       "      <th>38083</th>\n",
       "      <td>00010007_002.png</td>\n",
       "      <td>Infiltration</td>\n",
       "      <td>2</td>\n",
       "      <td>10007</td>\n",
       "      <td>58</td>\n",
       "      <td>M</td>\n",
       "      <td>AP</td>\n",
       "      <td>2500</td>\n",
       "      <td>2048</td>\n",
       "      <td>0.168</td>\n",
       "      <td>...</td>\n",
       "      <td>False</td>\n",
       "      <td>False</td>\n",
       "      <td>False</td>\n",
       "      <td>True</td>\n",
       "      <td>False</td>\n",
       "      <td>False</td>\n",
       "      <td>False</td>\n",
       "      <td>False</td>\n",
       "      <td>False</td>\n",
       "      <td>False</td>\n",
       "    </tr>\n",
       "    <tr>\n",
       "      <th>38084</th>\n",
       "      <td>00010007_003.png</td>\n",
       "      <td>Edema</td>\n",
       "      <td>3</td>\n",
       "      <td>10007</td>\n",
       "      <td>58</td>\n",
       "      <td>M</td>\n",
       "      <td>AP</td>\n",
       "      <td>2500</td>\n",
       "      <td>2048</td>\n",
       "      <td>0.168</td>\n",
       "      <td>...</td>\n",
       "      <td>False</td>\n",
       "      <td>False</td>\n",
       "      <td>False</td>\n",
       "      <td>False</td>\n",
       "      <td>False</td>\n",
       "      <td>False</td>\n",
       "      <td>False</td>\n",
       "      <td>False</td>\n",
       "      <td>False</td>\n",
       "      <td>False</td>\n",
       "    </tr>\n",
       "    <tr>\n",
       "      <th>38085</th>\n",
       "      <td>00010007_004.png</td>\n",
       "      <td>Edema|Effusion|Infiltration</td>\n",
       "      <td>4</td>\n",
       "      <td>10007</td>\n",
       "      <td>58</td>\n",
       "      <td>M</td>\n",
       "      <td>AP</td>\n",
       "      <td>2500</td>\n",
       "      <td>2048</td>\n",
       "      <td>0.168</td>\n",
       "      <td>...</td>\n",
       "      <td>False</td>\n",
       "      <td>False</td>\n",
       "      <td>False</td>\n",
       "      <td>True</td>\n",
       "      <td>False</td>\n",
       "      <td>False</td>\n",
       "      <td>False</td>\n",
       "      <td>False</td>\n",
       "      <td>False</td>\n",
       "      <td>False</td>\n",
       "    </tr>\n",
       "    <tr>\n",
       "      <th>...</th>\n",
       "      <td>...</td>\n",
       "      <td>...</td>\n",
       "      <td>...</td>\n",
       "      <td>...</td>\n",
       "      <td>...</td>\n",
       "      <td>...</td>\n",
       "      <td>...</td>\n",
       "      <td>...</td>\n",
       "      <td>...</td>\n",
       "      <td>...</td>\n",
       "      <td>...</td>\n",
       "      <td>...</td>\n",
       "      <td>...</td>\n",
       "      <td>...</td>\n",
       "      <td>...</td>\n",
       "      <td>...</td>\n",
       "      <td>...</td>\n",
       "      <td>...</td>\n",
       "      <td>...</td>\n",
       "      <td>...</td>\n",
       "      <td>...</td>\n",
       "    </tr>\n",
       "    <tr>\n",
       "      <th>38260</th>\n",
       "      <td>00010007_179.png</td>\n",
       "      <td>Atelectasis|Effusion</td>\n",
       "      <td>179</td>\n",
       "      <td>10007</td>\n",
       "      <td>59</td>\n",
       "      <td>M</td>\n",
       "      <td>AP</td>\n",
       "      <td>2500</td>\n",
       "      <td>2048</td>\n",
       "      <td>0.168</td>\n",
       "      <td>...</td>\n",
       "      <td>False</td>\n",
       "      <td>False</td>\n",
       "      <td>False</td>\n",
       "      <td>False</td>\n",
       "      <td>False</td>\n",
       "      <td>False</td>\n",
       "      <td>False</td>\n",
       "      <td>False</td>\n",
       "      <td>False</td>\n",
       "      <td>False</td>\n",
       "    </tr>\n",
       "    <tr>\n",
       "      <th>38261</th>\n",
       "      <td>00010007_180.png</td>\n",
       "      <td>Infiltration|Pleural_Thickening</td>\n",
       "      <td>180</td>\n",
       "      <td>10007</td>\n",
       "      <td>59</td>\n",
       "      <td>M</td>\n",
       "      <td>AP</td>\n",
       "      <td>2500</td>\n",
       "      <td>2048</td>\n",
       "      <td>0.168</td>\n",
       "      <td>...</td>\n",
       "      <td>False</td>\n",
       "      <td>False</td>\n",
       "      <td>False</td>\n",
       "      <td>True</td>\n",
       "      <td>False</td>\n",
       "      <td>False</td>\n",
       "      <td>False</td>\n",
       "      <td>True</td>\n",
       "      <td>False</td>\n",
       "      <td>False</td>\n",
       "    </tr>\n",
       "    <tr>\n",
       "      <th>38262</th>\n",
       "      <td>00010007_181.png</td>\n",
       "      <td>No Finding</td>\n",
       "      <td>181</td>\n",
       "      <td>10007</td>\n",
       "      <td>59</td>\n",
       "      <td>M</td>\n",
       "      <td>AP</td>\n",
       "      <td>2500</td>\n",
       "      <td>2048</td>\n",
       "      <td>0.168</td>\n",
       "      <td>...</td>\n",
       "      <td>False</td>\n",
       "      <td>False</td>\n",
       "      <td>False</td>\n",
       "      <td>False</td>\n",
       "      <td>False</td>\n",
       "      <td>True</td>\n",
       "      <td>False</td>\n",
       "      <td>False</td>\n",
       "      <td>False</td>\n",
       "      <td>False</td>\n",
       "    </tr>\n",
       "    <tr>\n",
       "      <th>38263</th>\n",
       "      <td>00010007_182.png</td>\n",
       "      <td>Consolidation</td>\n",
       "      <td>182</td>\n",
       "      <td>10007</td>\n",
       "      <td>59</td>\n",
       "      <td>M</td>\n",
       "      <td>AP</td>\n",
       "      <td>2500</td>\n",
       "      <td>2048</td>\n",
       "      <td>0.168</td>\n",
       "      <td>...</td>\n",
       "      <td>False</td>\n",
       "      <td>False</td>\n",
       "      <td>False</td>\n",
       "      <td>False</td>\n",
       "      <td>False</td>\n",
       "      <td>False</td>\n",
       "      <td>False</td>\n",
       "      <td>False</td>\n",
       "      <td>False</td>\n",
       "      <td>False</td>\n",
       "    </tr>\n",
       "    <tr>\n",
       "      <th>38264</th>\n",
       "      <td>00010007_183.png</td>\n",
       "      <td>Effusion|Infiltration</td>\n",
       "      <td>183</td>\n",
       "      <td>10007</td>\n",
       "      <td>59</td>\n",
       "      <td>M</td>\n",
       "      <td>AP</td>\n",
       "      <td>2500</td>\n",
       "      <td>2048</td>\n",
       "      <td>0.168</td>\n",
       "      <td>...</td>\n",
       "      <td>False</td>\n",
       "      <td>False</td>\n",
       "      <td>False</td>\n",
       "      <td>True</td>\n",
       "      <td>False</td>\n",
       "      <td>False</td>\n",
       "      <td>False</td>\n",
       "      <td>False</td>\n",
       "      <td>False</td>\n",
       "      <td>False</td>\n",
       "    </tr>\n",
       "  </tbody>\n",
       "</table>\n",
       "<p>184 rows × 27 columns</p>\n",
       "</div>"
      ],
      "text/plain": [
       "            Image Index                   Finding Labels  Follow-up #  \\\n",
       "38081  00010007_000.png                       No Finding            0   \n",
       "38082  00010007_001.png                       No Finding            1   \n",
       "38083  00010007_002.png                     Infiltration            2   \n",
       "38084  00010007_003.png                            Edema            3   \n",
       "38085  00010007_004.png      Edema|Effusion|Infiltration            4   \n",
       "...                 ...                              ...          ...   \n",
       "38260  00010007_179.png             Atelectasis|Effusion          179   \n",
       "38261  00010007_180.png  Infiltration|Pleural_Thickening          180   \n",
       "38262  00010007_181.png                       No Finding          181   \n",
       "38263  00010007_182.png                    Consolidation          182   \n",
       "38264  00010007_183.png            Effusion|Infiltration          183   \n",
       "\n",
       "       Patient ID  Patient Age Patient Gender View Position  \\\n",
       "38081       10007           57              M            PA   \n",
       "38082       10007           58              M            AP   \n",
       "38083       10007           58              M            AP   \n",
       "38084       10007           58              M            AP   \n",
       "38085       10007           58              M            AP   \n",
       "...           ...          ...            ...           ...   \n",
       "38260       10007           59              M            AP   \n",
       "38261       10007           59              M            AP   \n",
       "38262       10007           59              M            AP   \n",
       "38263       10007           59              M            AP   \n",
       "38264       10007           59              M            AP   \n",
       "\n",
       "       OriginalImage[Width  Height]  OriginalImagePixelSpacing[x  ...  \\\n",
       "38081                 2992     2991                        0.143  ...   \n",
       "38082                 2500     2048                        0.168  ...   \n",
       "38083                 2500     2048                        0.168  ...   \n",
       "38084                 2500     2048                        0.168  ...   \n",
       "38085                 2500     2048                        0.168  ...   \n",
       "...                    ...      ...                          ...  ...   \n",
       "38260                 2500     2048                        0.168  ...   \n",
       "38261                 2500     2048                        0.168  ...   \n",
       "38262                 2500     2048                        0.168  ...   \n",
       "38263                 2500     2048                        0.168  ...   \n",
       "38264                 2500     2048                        0.168  ...   \n",
       "\n",
       "       Emphysema  Fibrosis  Hernia  Infiltration   Mass  No Finding  Nodule  \\\n",
       "38081      False     False   False         False  False        True   False   \n",
       "38082      False     False   False         False  False        True   False   \n",
       "38083      False     False   False          True  False       False   False   \n",
       "38084      False     False   False         False  False       False   False   \n",
       "38085      False     False   False          True  False       False   False   \n",
       "...          ...       ...     ...           ...    ...         ...     ...   \n",
       "38260      False     False   False         False  False       False   False   \n",
       "38261      False     False   False          True  False       False   False   \n",
       "38262      False     False   False         False  False        True   False   \n",
       "38263      False     False   False         False  False       False   False   \n",
       "38264      False     False   False          True  False       False   False   \n",
       "\n",
       "       Pleural_Thickening  Pneumonia  Pneumothorax  \n",
       "38081               False      False         False  \n",
       "38082               False      False         False  \n",
       "38083               False      False         False  \n",
       "38084               False      False         False  \n",
       "38085               False      False         False  \n",
       "...                   ...        ...           ...  \n",
       "38260               False      False         False  \n",
       "38261                True      False         False  \n",
       "38262               False      False         False  \n",
       "38263               False      False         False  \n",
       "38264               False      False         False  \n",
       "\n",
       "[184 rows x 27 columns]"
      ]
     },
     "execution_count": 55,
     "metadata": {},
     "output_type": "execute_result"
    }
   ],
   "source": [
    "all_xray_df[all_xray_df['Patient ID'] == 10007]"
   ]
  },
  {
   "cell_type": "markdown",
   "metadata": {},
   "source": [
    "Before we go any further, we should consider how to frame the question: are we interested in the prevalence of a disease 'within the population', or are we more interested in the prevalence of disease 'within all images taken'?\n",
    "\n",
    "For now, I think there are good reasons to go with either. For now, just going to run with the 'within all images taken' interpretation. "
   ]
  },
  {
   "cell_type": "code",
   "execution_count": 60,
   "metadata": {},
   "outputs": [
    {
     "data": {
      "text/plain": [
       "Text(0, 0.5, 'Frequency observed')"
      ]
     },
     "execution_count": 60,
     "metadata": {},
     "output_type": "execute_result"
    },
    {
     "data": {
      "image/png": "[encoded data removed]",
      "text/plain": [
       "<Figure size 720x360 with 1 Axes>"
      ]
     },
     "metadata": {
      "needs_background": "light"
     },
     "output_type": "display_data"
    }
   ],
   "source": [
    "# Let's review some comorbitities\n",
    "plt.figure(figsize=(10,5))\n",
    "all_xray_df[all_xray_df['Pneumonia'] == 1]['Finding Labels'].value_counts()[0:30].plot(kind='bar', color='green')\n",
    "plt.ylabel('Frequency observed')"
   ]
  },
  {
   "cell_type": "markdown",
   "metadata": {},
   "source": [
    "Based on this, we can already tell that there are going to be some comorbidities we will have to attend to within some of our images. \n",
    "\n",
    "Infiltration, edema, and effusion all appear to occure quite frequently with pneumonia.  \n",
    "\n",
    "It's unclear at this point how this could cause issues with our ability to make relevant classification (ie what is the degree that these other conditions could obscure/bias the signal that we're looking for). For now, file as 'notable'.\n",
    "\n",
    "Moving on; next criteria:  \n",
    "**Students create distributions of basic demographics of the patients who make up their datasets (such as age, gender, patient position,etc.)**\n",
    "\n",
    "Consider age. Here again, statements on 'age of participants with certain diseases' would require us to acknowledge the fact that there are multiple images for (some) patients.  \n",
    "\n",
    "As above, I am going to put the focus on description of the _images_ that are seen by the algorithm, not a statment on the prevalence of diease within the population."
   ]
  },
  {
   "cell_type": "code",
   "execution_count": 63,
   "metadata": {},
   "outputs": [
    {
     "name": "stderr",
     "output_type": "stream",
     "text": [
      "/home/jared/anaconda3/envs/test/lib/python3.8/site-packages/seaborn/distributions.py:2551: FutureWarning: `distplot` is a deprecated function and will be removed in a future version. Please adapt your code to use either `displot` (a figure-level function with similar flexibility) or `histplot` (an axes-level function for histograms).\n",
      "  warnings.warn(msg, FutureWarning)\n"
     ]
    },
    {
     "data": {
      "text/plain": [
       "Text(0, 0.5, 'Frequency')"
      ]
     },
     "execution_count": 63,
     "metadata": {},
     "output_type": "execute_result"
    },
    {
     "data": {
      "image/png": "[encoded data removed]",
      "text/plain": [
       "<Figure size 432x288 with 1 Axes>"
      ]
     },
     "metadata": {
      "needs_background": "light"
     },
     "output_type": "display_data"
    }
   ],
   "source": [
    "# What is the age distribution of patient images (emphasis) with pneumonia\n",
    "sns.distplot(all_xray_df[all_xray_df['Pneumonia'] == 1]['Patient Age'], kde=False, color='purple')\n",
    "plt.ylabel('Frequency')"
   ]
  },
  {
   "cell_type": "code",
   "execution_count": 69,
   "metadata": {},
   "outputs": [
    {
     "name": "stderr",
     "output_type": "stream",
     "text": [
      "/home/jared/anaconda3/envs/test/lib/python3.8/site-packages/seaborn/distributions.py:2551: FutureWarning: `distplot` is a deprecated function and will be removed in a future version. Please adapt your code to use either `displot` (a figure-level function with similar flexibility) or `histplot` (an axes-level function for histograms).\n",
      "  warnings.warn(msg, FutureWarning)\n"
     ]
    },
    {
     "data": {
      "text/plain": [
       "Text(0, 0.5, 'Frequency')"
      ]
     },
     "execution_count": 69,
     "metadata": {},
     "output_type": "execute_result"
    },
    {
     "data": {
      "image/png": "[encoded data removed]",
      "text/plain": [
       "<Figure size 432x288 with 1 Axes>"
      ]
     },
     "metadata": {
      "needs_background": "light"
     },
     "output_type": "display_data"
    }
   ],
   "source": [
    "# I suppose I'm curious: what is the age of patients with ONLY pneumonia compared to a pneumonia with comorbidities?\n",
    "pneumonia_data=all_xray_df[all_xray_df['Pneumonia'] == 1]\n",
    "\n",
    "sns.distplot(pneumonia_data[(pneumonia_data['Pneumonia'] == 1) &\\\n",
    "                            (pneumonia_data['Finding Labels'].str.len() > 10) ]['Patient Age'], \n",
    "                             kde=False, color='purple')\n",
    "\n",
    "sns.distplot(pneumonia_data[pneumonia_data['Finding Labels'] == 'Pneumonia']['Patient Age'], kde=False, color='green')\n",
    "\n",
    "plt.ylabel('Frequency')"
   ]
  },
  {
   "cell_type": "code",
   "execution_count": null,
   "metadata": {},
   "outputs": [],
   "source": [
    "# Need a 'description' section "
   ]
  },
  {
   "cell_type": "code",
   "execution_count": null,
   "metadata": {},
   "outputs": [],
   "source": [
    "## EDA\n",
    "# Todo "
   ]
  }
 ],
 "metadata": {
  "kernelspec": {
   "display_name": "test",
   "language": "python",
   "name": "test"
  },
  "language_info": {
   "codemirror_mode": {
    "name": "ipython",
    "version": 3
   },
   "file_extension": ".py",
   "mimetype": "text/x-python",
   "name": "python",
   "nbconvert_exporter": "python",
   "pygments_lexer": "ipython3",
   "version": "3.8.5"
  }
 },
 "nbformat": 4,
 "nbformat_minor": 4
}
