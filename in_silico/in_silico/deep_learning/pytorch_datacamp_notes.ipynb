{
  "nbformat": 4,
  "nbformat_minor": 0,
  "metadata": {
    "colab": {
      "name": "pytorch_datacamp_notes.ipynb",
      "provenance": [],
      "authorship_tag": "ABX9TyPA6E+Xc5iYcF/NprXR7kAj"
    },
    "kernelspec": {
      "name": "python3",
      "display_name": "Python 3"
    }
  },
  "cells": [
    {
      "cell_type": "markdown",
      "metadata": {
        "id": "HdB6HTtXy0cG"
      },
      "source": [
        "## Pytorch datacamp \n",
        "`in_silico/in_silico/deep_learning/pytorch_datacamp_notes.ipynb`\n",
        "\n",
        "Probably helpful to consult [this](https://keep.google.com/#NOTE/1gn4Y4-qGTM3zrHnF2XUgeJ9jT4fqq4QRI939xI8eXOnU52WOwShzQvZheike-zs) card.\n"
      ]
    },
    {
      "cell_type": "code",
      "metadata": {
        "id": "h8-rbbBszHr4"
      },
      "source": [
        "import torch "
      ],
      "execution_count": 3,
      "outputs": []
    },
    {
      "cell_type": "code",
      "metadata": {
        "id": "5_4zqevHzXj6"
      },
      "source": [
        "# Thinking about computing grad\n",
        "x = torch.tensor(4.0, requires_grad=True)\n",
        "y = torch.tensor(-3.0, requires_grad=True)\n",
        "z = torch.tensor(5.0, requires_grad=True)\n",
        "\n",
        "# Now let's compute the first node\n",
        "q = x + y\n",
        "\n",
        "# And the final node\n",
        "f = z * q"
      ],
      "execution_count": 5,
      "outputs": []
    },
    {
      "cell_type": "code",
      "metadata": {
        "colab": {
          "base_uri": "https://localhost:8080/",
          "height": 0
        },
        "id": "c5UODIANzlv3",
        "outputId": "befbae0e-ee9d-4aa4-91d3-302e3fadbb47"
      },
      "source": [
        "# What can we see from each node?\n",
        "q\n",
        "\n",
        "# The value"
      ],
      "execution_count": 7,
      "outputs": [
        {
          "output_type": "execute_result",
          "data": {
            "text/plain": [
              "tensor(1., grad_fn=<AddBackward0>)"
            ]
          },
          "metadata": {
            "tags": []
          },
          "execution_count": 7
        }
      ]
    },
    {
      "cell_type": "code",
      "metadata": {
        "id": "5owxn4890QXe"
      },
      "source": [
        ""
      ],
      "execution_count": null,
      "outputs": []
    },
    {
      "cell_type": "code",
      "metadata": {
        "colab": {
          "base_uri": "https://localhost:8080/",
          "height": 0
        },
        "id": "6IZ8Lr3Iz33s",
        "outputId": "143b9d10-8efc-4a7c-8af4-8d9437173c78"
      },
      "source": [
        "# But now let's solve for the grad\n",
        "\n",
        "# First, I think that we have to _run_ the forward pass... In terms of the \n",
        "# memory of the tensors?\n",
        "\n",
        "# Note how we're doing this from the last node\n",
        "f.backward()\n",
        "\n",
        "# Now we can compute the grad of each\n",
        "print(str(z.grad))\n"
      ],
      "execution_count": 12,
      "outputs": [
        {
          "output_type": "stream",
          "text": [
            "tensor(1.)\n"
          ],
          "name": "stdout"
        }
      ]
    },
    {
      "cell_type": "code",
      "metadata": {
        "id": "k8rxUp450DGr"
      },
      "source": [
        "# Now, look at"
      ],
      "execution_count": 9,
      "outputs": []
    },
    {
      "cell_type": "code",
      "metadata": {
        "id": "5almXmHU0E5j"
      },
      "source": [
        ""
      ],
      "execution_count": null,
      "outputs": []
    }
  ]
}